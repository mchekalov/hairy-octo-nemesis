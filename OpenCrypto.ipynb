{
 "metadata": {
  "name": "OpenCrypto"
 },
 "nbformat": 3,
 "nbformat_minor": 0,
 "worksheets": [
  {
   "cells": [
    {
     "cell_type": "heading",
     "level": 1,
     "metadata": {},
     "source": "\u041a\u0430\u043a \u0440\u0430\u0431\u043e\u0442\u0430\u0435\u0442 \u041a\u0440\u0438\u043f\u0442\u043e\u0433\u0440\u0430\u0444\u0438\u044f \u0441 \u043e\u0442\u043a\u0440\u044b\u0442\u044b\u043c \u043a\u043e\u0434\u043e\u043c \u043d\u0430 \u043f\u0440\u0438\u043c\u0435\u0440\u0435."
    },
    {
     "cell_type": "markdown",
     "metadata": {},
     "source": "\u0414\u043b\u044f \u043d\u0430\u0447\u0430\u043b\u0430 \u043d\u0443\u0436\u043d\u044b \u0434\u0432\u0430 \u043f\u0440\u043e\u0441\u0442\u044b\u0445 \u0447\u0438\u0441\u043b\u0430 p \u0438 q, \u043d\u0430\u043f\u0440\u0438\u043c\u0435\u0440 3517 \u0438 3533, \u0438\u0445 \u043c\u043e\u0436\u043d\u043e \u0432\u0437\u044f\u0442\u044c [\u043e\u0442\u0441\u044e\u0434\u0430](http://ru.wikipedia.org/wiki/%D0%A1%D0%BF%D0%B8%D1%81%D0%BE%D0%BA_%D0%BF%D1%80%D0%BE%D1%81%D1%82%D1%8B%D1%85_%D1%87%D0%B8%D1%81%D0%B5%D0%BB).\n\u0417\u0430\u0442\u0435\u043c \u043f\u0435\u0440\u0435\u043c\u043d\u043e\u0436\u0430\u0435\u043c \u0438\u0445 \u0438 \u043f\u043e\u043b\u0443\u0447\u0430\u0435\u043c \u0446\u0435\u043b\u043e\u0435 \u0447\u0438\u0441\u043b\u043e n:"
    },
    {
     "cell_type": "code",
     "collapsed": false,
     "input": "p = 3517\nq = 3533\nn = p*q\nprint \"n =\", n",
     "language": "python",
     "metadata": {},
     "outputs": [
      {
       "output_type": "stream",
       "stream": "stdout",
       "text": "n = 12425561\n"
      }
     ],
     "prompt_number": 1
    },
    {
     "cell_type": "markdown",
     "metadata": {},
     "source": "\u0417\u0430\u0442\u0435\u043c \u043d\u0430\u0434\u043e \u043d\u0430\u0439\u0442\u0438 \u0437\u043d\u0430\u0447\u0435\u043d\u0438\u0435 [\u0444\u0443\u043d\u043a\u0446\u0438\u0438 \u042d\u0439\u043b\u0435\u0440\u0430](http://ru.wikipedia.org/wiki/%D0%A4%D1%83%D0%BD%D0%BA%D1%86%D0%B8%D1%8F_%D0%AD%D0%B9%D0%BB%D0%B5%D1%80%D0%B0) &phi; \u043e\u0442 n, \u0442\u043e \u0435\u0441\u0442\u044c \u043a\u043e\u043b\u0438\u0447\u0435\u0441\u0442\u0432\u043e \u043d\u0430\u0442\u0443\u0440\u0430\u043b\u044c\u043d\u044b\u0445 \u0447\u0438\u0441\u0435\u043b \u043c\u0435\u043d\u044c\u0448\u0435 n \u0438 [\u0432\u0437\u0430\u0438\u043c\u043d\u043e \u043f\u0440\u043e\u0441\u0442\u044b\u0445](http://ru.wikipedia.org/wiki/%D0%92%D0%B7%D0%B0%D0%B8%D0%BC%D0%BD%D0%BE_%D0%BF%D1%80%D0%BE%D1%81%D1%82%D1%8B%D0%B5_%D1%87%D0%B8%D1%81%D0%BB%D0%B0) \u0441 \u043d\u0438\u043c. \u0418\u0437 \u043c\u0443\u043b\u044c\u0442\u0438\u043f\u043b\u0438\u043a\u0430\u0442\u0438\u0432\u043d\u043e\u0441\u0442\u0438 \u0444\u0443\u043d\u043a\u0446\u0438\u0438 \u042d\u0439\u043b\u0435\u0440\u0430 \u0441\u043b\u0435\u0434\u0443\u0435\u0442 \u0447\u0442\u043e: \n\n&phi;(n) = &phi;(p) * &phi;(q) , \u0430 &phi; \u043e\u0442 \u043f\u0440\u043e\u0441\u0442\u043e\u0433\u043e \u0447\u0438\u0441\u043b\u0430 &phi;(\u0440) = \u0440-1.\n\n\u0412 \u0440\u0435\u0437\u0443\u043b\u044c\u0442\u0430\u0442\u0435 \u043f\u043e\u043b\u0443\u0447\u0430\u0435\u0442\u0441\u044f \u0447\u0442\u043e \u0437\u043d\u0430\u0447\u0435\u043d\u0438\u0435 \u0444\u0443\u043d\u043a\u0446\u0438\u0438 \u042d\u0439\u043b\u0435\u0440\u0430 \u0434\u043b\u044f \u043d\u0430\u0448\u0435\u0433\u043e \u0447\u0438\u0441\u043b\u0430 n, \u0441\u043e\u0441\u0442\u043e\u044f\u0449\u0435\u0433\u043e \u0438\u0437 \u043f\u0440\u043e\u0441\u0442\u044b\u0445 \u0441\u043e\u043c\u043d\u043e\u0436\u0438\u0442\u0435\u043b\u0435\u0439 \u0440\u0430\u0432\u043d\u043e:"
    },
    {
     "cell_type": "code",
     "collapsed": false,
     "input": "Fi = (p-1)*(q-1)\nprint Fi",
     "language": "python",
     "metadata": {},
     "outputs": [
      {
       "output_type": "stream",
       "stream": "stdout",
       "text": "12418512\n"
      }
     ],
     "prompt_number": 2
    },
    {
     "cell_type": "markdown",
     "metadata": {},
     "source": "\u0414\u0430\u043b\u044c\u0448\u0435 \u043d\u0435\u043e\u0431\u0445\u043e\u0434\u0438\u043c\u043e \u0432\u044b\u0431\u0440\u0430\u0442\u044c \u0447\u0438\u0441\u043b\u043e *e*, \u043c\u0435\u043d\u044c\u0448\u0435\u0435 *&phi;(n)* \u0438 [\u0432\u0437\u0430\u0438\u043c\u043d\u043e \u043f\u0440\u043e\u0441\u0442\u043e\u0435](http://ru.wikipedia.org/wiki/%D0%92%D0%B7%D0%B0%D0%B8%D0%BC%D0%BD%D0%BE_%D0%BF%D1%80%D0%BE%D1%81%D1%82%D1%8B%D0%B5_%D1%87%D0%B8%D1%81%D0%BB%D0%B0) \u0441 \u043d\u0438\u043c, \u043f\u043e\u0434\u0445\u043e\u0434\u044f\u0442 \u043b\u044e\u0431\u044b\u0435 \u043f\u0440\u043e\u0441\u0442\u044b\u0435 \u0447\u0438\u0441\u043b\u0430, \u043e\u0442\u043b\u0438\u0447\u0430\u044e\u0449\u0438\u0435\u0441\u044f \u043e\u0442 p \u0438 q, \u043d\u0430\u043f\u0440\u0438\u043c\u0435\u0440\n\ne = 2833\n\n\u041d\u0430\u0439\u0434\u0435\u043c \u0441\u0435\u043a\u0440\u0435\u0442\u043d\u0443\u044e \u044d\u043a\u0441\u043f\u043e\u043d\u0435\u043d\u0442\u0443 *d*, \u0442\u0430\u043a\u0443\u044e \u0447\u0442\u043e\u0431\u044b:\n\nd * e &equiv; 1 mod &phi;(n),\n\n\u0442\u043e \u0435\u0441\u0442\u044c \u043d\u0430\u0439\u0442\u0438 \u0442\u0430\u043a\u043e\u0435 \u0447\u0438\u0441\u043b\u043e d, \u043a\u043e\u0442\u043e\u0440\u043e\u0435 \u0443\u043c\u043d\u043e\u0436\u0438\u0442\u044c \u043d\u0430 e \u0438 \u043f\u043e\u0434\u0435\u043b\u0438\u0442\u044c \u043d\u0430 &phi;(n) \u0432 \u043e\u0441\u0442\u0430\u0442\u043a\u0435 \u043f\u043e\u043b\u0443\u0447\u0438\u043b\u0438 \u0431\u044b 1."
    },
    {
     "cell_type": "code",
     "collapsed": false,
     "input": "def extendedEuclid(a, b):\n    '''\u041d\u0430\u0439\u0434\u0435\u043c \u043d\u0430\u0438\u043c\u0435\u043d\u044c\u0448\u0438\u0439 \u043e\u0431\u0449\u0438\u0439 \u0434\u0435\u043b\u0438\u0442\u0435\u043b\u044c x, \u0433\u0434\u0435 x = y * a + z * b'''\n    if a == 0:\n        return (b, 0, 1)\n    else:\n        g, y, x = extendedEuclid(b % a, a)\n        return (g, x - (b // a) * y, y)\n\n\ne = 2833\n#print e, Fi\ng, x, y = extendedEuclid(e, Fi)\n#print g, x, y\nif x < 0:\n    d = x+Fi\nelse:\n    d = x\n\nprint \"d =\", d",
     "language": "python",
     "metadata": {},
     "outputs": [
      {
       "output_type": "stream",
       "stream": "stdout",
       "text": "d = 9341281\n"
      }
     ],
     "prompt_number": 3
    },
    {
     "cell_type": "markdown",
     "metadata": {},
     "source": "\u041f\u0440\u043e\u0432\u0435\u0440\u043a\u0430, \u043f\u043e\u0434\u0445\u043e\u0434\u0438\u0442 \u043b\u0438 d"
    },
    {
     "cell_type": "code",
     "collapsed": false,
     "input": "#print d, e, n\n''' \u041d\u0430\u0434\u043e d \u0443\u043c\u043d\u043e\u0436\u0438\u0442\u044c \u043d\u0430 e \u0438 \u043f\u043e\u0434\u0435\u043b\u0438\u0442\u044c \u043d\u0430 Fi, \u043e\u0441\u0442\u0430\u0442\u043e\u043a \u0434\u043e\u043b\u0436\u0435\u043d \u0440\u0430\u0432\u043d\u044f\u0442\u044c\u0441\u044f 1. '''\ntest = d * e % Fi\nprint test",
     "language": "python",
     "metadata": {},
     "outputs": [
      {
       "output_type": "stream",
       "stream": "stdout",
       "text": "1\n"
      }
     ],
     "prompt_number": 4
    },
    {
     "cell_type": "markdown",
     "metadata": {},
     "source": "\u041c\u044b \u043f\u043e\u043b\u0443\u0447\u0438\u043b\u0438 \u043e\u0442\u043a\u0440\u044b\u0442\u044b\u0439 \u043a\u043b\u044e\u0447 = {n, e}\n\n\u0418 \u0437\u0430\u043a\u0440\u044b\u0442\u044b\u0439 \u043a\u043b\u044e\u0447 = {d}"
    },
    {
     "cell_type": "markdown",
     "metadata": {},
     "source": "\u0417\u0430\u0448\u0438\u0444\u0440\u043e\u0432\u0430\u0442\u044c \u043c\u043e\u0436\u043d\u043e \u0442\u043e\u043b\u044c\u043a\u043e \u0446\u0435\u043b\u043e\u0435 \u0447\u0438\u0441\u043b\u043e, \u043f\u043e\u044d\u0442\u043e\u043c\u0443 \u0432\u0441\u0435 \u0431\u0443\u043a\u0432\u044b \u043f\u0435\u0440\u0435\u0432\u043e\u0434\u044f\u0442 \u0432 \u0447\u0438\u0441\u043b\u0430 \u0438 \u0448\u0438\u0444\u0440\u0443\u044e\u0442 \u0438\u0445, \u043f\u043e\u043b\u0443\u0447\u0430\u044f \u0434\u0440\u0443\u0433\u043e\u0435 \u0447\u0438\u0441\u043b\u043e. \u041d\u0430\u043f\u0440\u0438\u043c\u0435\u0440, \u0437\u0430\u0448\u0438\u0444\u0440\u0443\u0435\u043c \u0447\u0438\u0441\u043b\u043e 333. \u041f\u0443\u0441\u0442\u044c m = 333.\n\n\u0428\u0438\u0444\u0440\u043e\u0432\u0430\u043d\u0438\u0435 \u0434\u0435\u043b\u0430\u0435\u0442\u0441\u044f \u043f\u043e \u0444\u043e\u0440\u043c\u0443\u043b\u0435: c = m^e mod n"
    },
    {
     "cell_type": "code",
     "collapsed": false,
     "input": "m = 333\nc = pow(m, e, n)\n#c = 333 ** e % n\nprint c",
     "language": "python",
     "metadata": {},
     "outputs": [
      {
       "output_type": "stream",
       "stream": "stdout",
       "text": "3968529\n"
      }
     ],
     "prompt_number": 5
    },
    {
     "cell_type": "markdown",
     "metadata": {},
     "source": "\u0420\u0430\u0441\u0448\u0438\u0444\u0440\u043e\u0432\u044b\u0432\u0430\u043d\u0438\u0435 \u043f\u0440\u043e\u0438\u0441\u0445\u043e\u0434\u0438\u0442 \u043f\u043e \u0444\u043e\u0440\u043c\u0443\u043b\u0435: m = c^d mod n"
    },
    {
     "cell_type": "code",
     "collapsed": false,
     "input": "''' \u0424\u0443\u043d\u043a\u0446\u0438\u044f pow \u0432\u043e\u0437\u0432\u043e\u0434\u0438\u0442 \u0441 \u0432 \u0441\u0442\u0435\u043f\u0435\u043d\u044c d \u0438 \u0434\u0435\u043b\u0438\u0442 \u043d\u0430 n \u0438 \u0432\u043e\u0437\u0432\u0440\u0430\u0449\u0430\u0435\u0442 \u043e\u0441\u0442\u0430\u0442\u043e\u043a \u043e\u0442 \u0434\u0435\u043b\u0435\u043d\u0438\u044f '''\nm = pow(c, d, n)\nprint m",
     "language": "python",
     "metadata": {},
     "outputs": [
      {
       "output_type": "stream",
       "stream": "stdout",
       "text": "333\n"
      }
     ],
     "prompt_number": 6
    },
    {
     "cell_type": "markdown",
     "metadata": {},
     "source": "\u0412 \u0440\u0435\u0437\u0443\u043b\u044c\u0442\u0430\u0442\u0435 \u043f\u043e\u043b\u0443\u0447\u0438\u043b\u0438 \u043f\u0435\u0440\u0432\u043e\u043d\u0430\u0447\u0430\u043b\u044c\u043d\u043e\u0435 \u0447\u0438\u0441\u043b\u043e. "
    }
   ],
   "metadata": {}
  }
 ]
}